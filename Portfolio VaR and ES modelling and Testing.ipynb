{
 "cells": [
  {
   "cell_type": "markdown",
   "id": "c7e05f77-6d71-4020-b8e2-936196626c48",
   "metadata": {},
   "source": [
    "In this notebook, I model 1-day 99% VaR for a Portfolio consisting of Stocks by using two methods: Historical Simulation and Monte Carlo Simulation. "
   ]
  },
  {
   "cell_type": "code",
   "execution_count": 28,
   "id": "833a8c2b",
   "metadata": {
    "_kg_hide-input": true,
    "_kg_hide-output": true,
    "papermill": {
     "duration": 41.757006,
     "end_time": "2024-02-12T10:04:39.201723",
     "exception": false,
     "start_time": "2024-02-12T10:03:57.444717",
     "status": "completed"
    },
    "tags": []
   },
   "outputs": [],
   "source": [
    "import pandas as pd \n",
    "import numpy as np\n",
    "import matplotlib.pyplot as plt\n",
    "import seaborn as sns\n",
    "import yfinance as yf\n",
    "from scipy import stats"
   ]
  },
  {
   "cell_type": "markdown",
   "id": "ca89c550-7d78-47c9-80ac-1ab09f1a30ad",
   "metadata": {},
   "source": [
    "Consider Portfolio consisting of positions in 5 Stocks with equal weights. Total value of the Portfolio is 1 Million USD. Let us use the stock data for three years from 2022 to 2024. "
   ]
  },
  {
   "cell_type": "code",
   "execution_count": 29,
   "id": "36573dcd",
   "metadata": {
    "_kg_hide-output": true,
    "papermill": {
     "duration": 1.354061,
     "end_time": "2024-02-12T10:05:00.407029",
     "exception": false,
     "start_time": "2024-02-12T10:04:59.052968",
     "status": "completed"
    },
    "tags": []
   },
   "outputs": [
    {
     "name": "stderr",
     "output_type": "stream",
     "text": [
      "[*********************100%***********************]  1 of 1 completed\n",
      "[*********************100%***********************]  1 of 1 completed\n",
      "[*********************100%***********************]  1 of 1 completed\n",
      "[*********************100%***********************]  1 of 1 completed\n",
      "[*********************100%***********************]  1 of 1 completed\n"
     ]
    }
   ],
   "source": [
    "tickers = ['AAPL', 'MSFT', 'GOOG', 'META', 'TSLA']\n",
    "\n",
    "df = pd.DataFrame()\n",
    "for ticker in tickers:\n",
    "    data = yf.download(ticker, start='2022-01-01', end='2024-01-01',auto_adjust=True)\n",
    "    df[ticker] = data['Close']"
   ]
  },
  {
   "cell_type": "code",
   "execution_count": 30,
   "id": "45cf7b7c",
   "metadata": {
    "papermill": {
     "duration": 0.034635,
     "end_time": "2024-02-12T10:05:00.454195",
     "exception": false,
     "start_time": "2024-02-12T10:05:00.419560",
     "status": "completed"
    },
    "tags": []
   },
   "outputs": [
    {
     "data": {
      "text/html": [
       "<div>\n",
       "<style scoped>\n",
       "    .dataframe tbody tr th:only-of-type {\n",
       "        vertical-align: middle;\n",
       "    }\n",
       "\n",
       "    .dataframe tbody tr th {\n",
       "        vertical-align: top;\n",
       "    }\n",
       "\n",
       "    .dataframe thead th {\n",
       "        text-align: right;\n",
       "    }\n",
       "</style>\n",
       "<table border=\"1\" class=\"dataframe\">\n",
       "  <thead>\n",
       "    <tr style=\"text-align: right;\">\n",
       "      <th></th>\n",
       "      <th>AAPL</th>\n",
       "      <th>MSFT</th>\n",
       "      <th>GOOG</th>\n",
       "      <th>META</th>\n",
       "      <th>TSLA</th>\n",
       "    </tr>\n",
       "    <tr>\n",
       "      <th>Date</th>\n",
       "      <th></th>\n",
       "      <th></th>\n",
       "      <th></th>\n",
       "      <th></th>\n",
       "      <th></th>\n",
       "    </tr>\n",
       "  </thead>\n",
       "  <tbody>\n",
       "    <tr>\n",
       "      <th>2022-01-03</th>\n",
       "      <td>178.645645</td>\n",
       "      <td>325.038086</td>\n",
       "      <td>144.217224</td>\n",
       "      <td>336.692871</td>\n",
       "      <td>399.926666</td>\n",
       "    </tr>\n",
       "    <tr>\n",
       "      <th>2022-01-04</th>\n",
       "      <td>176.378357</td>\n",
       "      <td>319.464569</td>\n",
       "      <td>143.563141</td>\n",
       "      <td>334.693909</td>\n",
       "      <td>383.196655</td>\n",
       "    </tr>\n",
       "    <tr>\n",
       "      <th>2022-01-05</th>\n",
       "      <td>171.686691</td>\n",
       "      <td>307.201019</td>\n",
       "      <td>136.840103</td>\n",
       "      <td>322.401306</td>\n",
       "      <td>362.706665</td>\n",
       "    </tr>\n",
       "    <tr>\n",
       "      <th>2022-01-06</th>\n",
       "      <td>168.820663</td>\n",
       "      <td>304.773560</td>\n",
       "      <td>136.738205</td>\n",
       "      <td>330.646057</td>\n",
       "      <td>354.899994</td>\n",
       "    </tr>\n",
       "    <tr>\n",
       "      <th>2022-01-07</th>\n",
       "      <td>168.987534</td>\n",
       "      <td>304.928986</td>\n",
       "      <td>136.194931</td>\n",
       "      <td>329.979675</td>\n",
       "      <td>342.320007</td>\n",
       "    </tr>\n",
       "    <tr>\n",
       "      <th>...</th>\n",
       "      <td>...</td>\n",
       "      <td>...</td>\n",
       "      <td>...</td>\n",
       "      <td>...</td>\n",
       "      <td>...</td>\n",
       "    </tr>\n",
       "    <tr>\n",
       "      <th>2023-12-22</th>\n",
       "      <td>192.192566</td>\n",
       "      <td>370.375732</td>\n",
       "      <td>141.876663</td>\n",
       "      <td>351.461884</td>\n",
       "      <td>252.539993</td>\n",
       "    </tr>\n",
       "    <tr>\n",
       "      <th>2023-12-26</th>\n",
       "      <td>191.646576</td>\n",
       "      <td>370.454895</td>\n",
       "      <td>141.976074</td>\n",
       "      <td>352.893982</td>\n",
       "      <td>256.609985</td>\n",
       "    </tr>\n",
       "    <tr>\n",
       "      <th>2023-12-27</th>\n",
       "      <td>191.745819</td>\n",
       "      <td>369.871490</td>\n",
       "      <td>140.604233</td>\n",
       "      <td>355.877594</td>\n",
       "      <td>261.440002</td>\n",
       "    </tr>\n",
       "    <tr>\n",
       "      <th>2023-12-28</th>\n",
       "      <td>192.172714</td>\n",
       "      <td>371.067932</td>\n",
       "      <td>140.445190</td>\n",
       "      <td>356.364960</td>\n",
       "      <td>253.179993</td>\n",
       "    </tr>\n",
       "    <tr>\n",
       "      <th>2023-12-29</th>\n",
       "      <td>191.130325</td>\n",
       "      <td>371.819366</td>\n",
       "      <td>140.097244</td>\n",
       "      <td>352.028717</td>\n",
       "      <td>248.479996</td>\n",
       "    </tr>\n",
       "  </tbody>\n",
       "</table>\n",
       "<p>501 rows × 5 columns</p>\n",
       "</div>"
      ],
      "text/plain": [
       "                  AAPL        MSFT        GOOG        META        TSLA\n",
       "Date                                                                  \n",
       "2022-01-03  178.645645  325.038086  144.217224  336.692871  399.926666\n",
       "2022-01-04  176.378357  319.464569  143.563141  334.693909  383.196655\n",
       "2022-01-05  171.686691  307.201019  136.840103  322.401306  362.706665\n",
       "2022-01-06  168.820663  304.773560  136.738205  330.646057  354.899994\n",
       "2022-01-07  168.987534  304.928986  136.194931  329.979675  342.320007\n",
       "...                ...         ...         ...         ...         ...\n",
       "2023-12-22  192.192566  370.375732  141.876663  351.461884  252.539993\n",
       "2023-12-26  191.646576  370.454895  141.976074  352.893982  256.609985\n",
       "2023-12-27  191.745819  369.871490  140.604233  355.877594  261.440002\n",
       "2023-12-28  192.172714  371.067932  140.445190  356.364960  253.179993\n",
       "2023-12-29  191.130325  371.819366  140.097244  352.028717  248.479996\n",
       "\n",
       "[501 rows x 5 columns]"
      ]
     },
     "execution_count": 30,
     "metadata": {},
     "output_type": "execute_result"
    }
   ],
   "source": [
    "df"
   ]
  },
  {
   "cell_type": "markdown",
   "id": "7188f955-0414-491a-b464-0de5b69d5cb4",
   "metadata": {},
   "source": [
    "Calculate the daily returns from each of the Stocks."
   ]
  },
  {
   "cell_type": "code",
   "execution_count": 31,
   "id": "4c169c6e",
   "metadata": {
    "papermill": {
     "duration": 0.036234,
     "end_time": "2024-02-12T10:05:00.503067",
     "exception": false,
     "start_time": "2024-02-12T10:05:00.466833",
     "status": "completed"
    },
    "tags": []
   },
   "outputs": [
    {
     "data": {
      "text/html": [
       "<div>\n",
       "<style scoped>\n",
       "    .dataframe tbody tr th:only-of-type {\n",
       "        vertical-align: middle;\n",
       "    }\n",
       "\n",
       "    .dataframe tbody tr th {\n",
       "        vertical-align: top;\n",
       "    }\n",
       "\n",
       "    .dataframe thead th {\n",
       "        text-align: right;\n",
       "    }\n",
       "</style>\n",
       "<table border=\"1\" class=\"dataframe\">\n",
       "  <thead>\n",
       "    <tr style=\"text-align: right;\">\n",
       "      <th></th>\n",
       "      <th>AAPL</th>\n",
       "      <th>MSFT</th>\n",
       "      <th>GOOG</th>\n",
       "      <th>META</th>\n",
       "      <th>TSLA</th>\n",
       "    </tr>\n",
       "    <tr>\n",
       "      <th>Date</th>\n",
       "      <th></th>\n",
       "      <th></th>\n",
       "      <th></th>\n",
       "      <th></th>\n",
       "      <th></th>\n",
       "    </tr>\n",
       "  </thead>\n",
       "  <tbody>\n",
       "    <tr>\n",
       "      <th>2022-01-04</th>\n",
       "      <td>-0.012692</td>\n",
       "      <td>-0.017147</td>\n",
       "      <td>-0.004535</td>\n",
       "      <td>-0.005937</td>\n",
       "      <td>-0.041833</td>\n",
       "    </tr>\n",
       "    <tr>\n",
       "      <th>2022-01-05</th>\n",
       "      <td>-0.026600</td>\n",
       "      <td>-0.038388</td>\n",
       "      <td>-0.046830</td>\n",
       "      <td>-0.036728</td>\n",
       "      <td>-0.053471</td>\n",
       "    </tr>\n",
       "    <tr>\n",
       "      <th>2022-01-06</th>\n",
       "      <td>-0.016693</td>\n",
       "      <td>-0.007902</td>\n",
       "      <td>-0.000745</td>\n",
       "      <td>0.025573</td>\n",
       "      <td>-0.021523</td>\n",
       "    </tr>\n",
       "    <tr>\n",
       "      <th>2022-01-07</th>\n",
       "      <td>0.000988</td>\n",
       "      <td>0.000510</td>\n",
       "      <td>-0.003973</td>\n",
       "      <td>-0.002015</td>\n",
       "      <td>-0.035447</td>\n",
       "    </tr>\n",
       "    <tr>\n",
       "      <th>2022-01-10</th>\n",
       "      <td>0.000116</td>\n",
       "      <td>0.000732</td>\n",
       "      <td>0.011456</td>\n",
       "      <td>-0.011212</td>\n",
       "      <td>0.030342</td>\n",
       "    </tr>\n",
       "    <tr>\n",
       "      <th>...</th>\n",
       "      <td>...</td>\n",
       "      <td>...</td>\n",
       "      <td>...</td>\n",
       "      <td>...</td>\n",
       "      <td>...</td>\n",
       "    </tr>\n",
       "    <tr>\n",
       "      <th>2023-12-22</th>\n",
       "      <td>-0.005547</td>\n",
       "      <td>0.002784</td>\n",
       "      <td>0.006488</td>\n",
       "      <td>-0.001977</td>\n",
       "      <td>-0.007701</td>\n",
       "    </tr>\n",
       "    <tr>\n",
       "      <th>2023-12-26</th>\n",
       "      <td>-0.002841</td>\n",
       "      <td>0.000214</td>\n",
       "      <td>0.000701</td>\n",
       "      <td>0.004075</td>\n",
       "      <td>0.016116</td>\n",
       "    </tr>\n",
       "    <tr>\n",
       "      <th>2023-12-27</th>\n",
       "      <td>0.000518</td>\n",
       "      <td>-0.001575</td>\n",
       "      <td>-0.009662</td>\n",
       "      <td>0.008455</td>\n",
       "      <td>0.018822</td>\n",
       "    </tr>\n",
       "    <tr>\n",
       "      <th>2023-12-28</th>\n",
       "      <td>0.002226</td>\n",
       "      <td>0.003235</td>\n",
       "      <td>-0.001131</td>\n",
       "      <td>0.001369</td>\n",
       "      <td>-0.031594</td>\n",
       "    </tr>\n",
       "    <tr>\n",
       "      <th>2023-12-29</th>\n",
       "      <td>-0.005424</td>\n",
       "      <td>0.002025</td>\n",
       "      <td>-0.002477</td>\n",
       "      <td>-0.012168</td>\n",
       "      <td>-0.018564</td>\n",
       "    </tr>\n",
       "  </tbody>\n",
       "</table>\n",
       "<p>500 rows × 5 columns</p>\n",
       "</div>"
      ],
      "text/plain": [
       "                AAPL      MSFT      GOOG      META      TSLA\n",
       "Date                                                        \n",
       "2022-01-04 -0.012692 -0.017147 -0.004535 -0.005937 -0.041833\n",
       "2022-01-05 -0.026600 -0.038388 -0.046830 -0.036728 -0.053471\n",
       "2022-01-06 -0.016693 -0.007902 -0.000745  0.025573 -0.021523\n",
       "2022-01-07  0.000988  0.000510 -0.003973 -0.002015 -0.035447\n",
       "2022-01-10  0.000116  0.000732  0.011456 -0.011212  0.030342\n",
       "...              ...       ...       ...       ...       ...\n",
       "2023-12-22 -0.005547  0.002784  0.006488 -0.001977 -0.007701\n",
       "2023-12-26 -0.002841  0.000214  0.000701  0.004075  0.016116\n",
       "2023-12-27  0.000518 -0.001575 -0.009662  0.008455  0.018822\n",
       "2023-12-28  0.002226  0.003235 -0.001131  0.001369 -0.031594\n",
       "2023-12-29 -0.005424  0.002025 -0.002477 -0.012168 -0.018564\n",
       "\n",
       "[500 rows x 5 columns]"
      ]
     },
     "execution_count": 31,
     "metadata": {},
     "output_type": "execute_result"
    }
   ],
   "source": [
    "returns = df.pct_change()\n",
    "returns = returns.dropna()\n",
    "returns"
   ]
  },
  {
   "cell_type": "code",
   "execution_count": 32,
   "id": "5f268c9e",
   "metadata": {
    "_kg_hide-output": false,
    "papermill": {
     "duration": 0.02336,
     "end_time": "2024-02-12T10:05:00.539271",
     "exception": false,
     "start_time": "2024-02-12T10:05:00.515911",
     "status": "completed"
    },
    "tags": []
   },
   "outputs": [
    {
     "name": "stdout",
     "output_type": "stream",
     "text": [
      "[0.2 0.2 0.2 0.2 0.2]\n"
     ]
    }
   ],
   "source": [
    "portfolio_value = 1000000\n",
    "weights = np.array([1/len(tickers)]*len(tickers))\n",
    "print(weights)"
   ]
  },
  {
   "cell_type": "markdown",
   "id": "a2e8e452-1dd3-448c-a1a4-41468deef833",
   "metadata": {},
   "source": [
    "Find the daily returns for the whole Portfolio"
   ]
  },
  {
   "cell_type": "code",
   "execution_count": 33,
   "id": "c111e009",
   "metadata": {
    "papermill": {
     "duration": 0.027821,
     "end_time": "2024-02-12T10:05:00.580400",
     "exception": false,
     "start_time": "2024-02-12T10:05:00.552579",
     "status": "completed"
    },
    "tags": []
   },
   "outputs": [
    {
     "name": "stdout",
     "output_type": "stream",
     "text": [
      "Date\n",
      "2022-01-04   -0.016429\n",
      "2022-01-05   -0.040403\n",
      "2022-01-06   -0.004258\n",
      "2022-01-07   -0.007987\n",
      "2022-01-10    0.006287\n",
      "                ...   \n",
      "2023-12-22   -0.001191\n",
      "2023-12-26    0.003653\n",
      "2023-12-27    0.003312\n",
      "2023-12-28   -0.005179\n",
      "2023-12-29   -0.007322\n",
      "Length: 500, dtype: float64\n"
     ]
    }
   ],
   "source": [
    "historical_returns = (returns * weights).sum(axis =1)\n",
    "print(historical_returns)"
   ]
  },
  {
   "cell_type": "markdown",
   "id": "7b35bad3-9c77-4f77-9f3e-7c392736d756",
   "metadata": {},
   "source": [
    "Find the VaR from the Historical Simulation by finding the value at 99 percentile from the distribution of portfolio returns. 1-day 99% VaR for the Portfolio of 1 Million USD is 51610.84 USD."
   ]
  },
  {
   "cell_type": "code",
   "execution_count": 34,
   "id": "14af2990-5dda-4030-a2ca-92f00ec8c405",
   "metadata": {},
   "outputs": [
    {
     "name": "stdout",
     "output_type": "stream",
     "text": [
      "51610.845987009285\n"
     ]
    }
   ],
   "source": [
    "confidence_interval = 0.99\n",
    "\n",
    "VaR = -np.percentile(historical_returns, 100 - (confidence_interval * 100))*portfolio_value\n",
    "print(VaR)"
   ]
  },
  {
   "cell_type": "markdown",
   "id": "6be008bc-77ae-430b-b474-3686efd9902a",
   "metadata": {},
   "source": [
    "Plot the distribution of Porfolio returns along with the VaR "
   ]
  },
  {
   "cell_type": "code",
   "execution_count": 35,
   "id": "c44554c9-78ce-4ecc-bf0c-5f8b10a025a4",
   "metadata": {},
   "outputs": [
    {
     "name": "stderr",
     "output_type": "stream",
     "text": [
      "C:\\Users\\dande\\anaconda3\\Lib\\site-packages\\seaborn\\_oldcore.py:1119: FutureWarning: use_inf_as_na option is deprecated and will be removed in a future version. Convert inf values to NaN before operating instead.\n",
      "  with pd.option_context('mode.use_inf_as_na', True):\n"
     ]
    },
    {
     "data": {
      "image/png": "[encoded data removed]",
      "text/plain": [
       "<Figure size 640x480 with 1 Axes>"
      ]
     },
     "metadata": {},
     "output_type": "display_data"
    }
   ],
   "source": [
    "sns.histplot(historical_returns * portfolio_value, bins=20, kde=True)\n",
    "plt.xlabel('1-Day Portfolio Return (in USD)')\n",
    "plt.ylabel('Frequency')\n",
    "plt.title('Distribution of 1-Day Portfolio Returns (Historical Simulation)')\n",
    "plt.axvline(-VaR, color='r', linestyle='dashed', linewidth=2, label=f'VaR at {confidence_interval:.0%} confidence level')\n",
    "plt.legend()\n",
    "plt.show()"
   ]
  },
  {
   "cell_type": "markdown",
   "id": "72283c31-9e25-4b1a-96f5-9ce641634899",
   "metadata": {},
   "source": [
    "Now perform the Monte Carlo Simulation. Start with finding the mean returns and covariance matrix for the Stocks in the Portfolio."
   ]
  },
  {
   "cell_type": "code",
   "execution_count": 36,
   "id": "e62bbc96-3cc7-44e6-8ab5-f30b21874dea",
   "metadata": {},
   "outputs": [],
   "source": [
    "mean_returns = returns.mean().values\n",
    "cov_matrix = returns.cov().values"
   ]
  },
  {
   "cell_type": "markdown",
   "id": "5488885b-6358-4276-a078-aeab67b711d5",
   "metadata": {},
   "source": [
    "Perform 10000 simulations. Use random samples from multivariate normal distribution for the stocks in the Portfolio."
   ]
  },
  {
   "cell_type": "code",
   "execution_count": 37,
   "id": "d1f75ea6-228f-4507-821c-16f186e834c0",
   "metadata": {},
   "outputs": [],
   "source": [
    "n_simulations = 10000\n",
    "np.random.seed(42)\n",
    "simulated_returns = np.random.multivariate_normal(mean_returns, cov_matrix, size=n_simulations)"
   ]
  },
  {
   "cell_type": "markdown",
   "id": "d316b6fd-d46e-486c-8222-48330fbec335",
   "metadata": {},
   "source": [
    "Find the Portfolio returns. Find VaR using the value at 99 percentile of the distribution of Portfolio returns. 1-day 99% VaR for the Portfolio of 1 Million USD is 48,213.21 USD."
   ]
  },
  {
   "cell_type": "code",
   "execution_count": 38,
   "id": "f7459e32-c0c5-42b8-9665-5f3924490b99",
   "metadata": {},
   "outputs": [
    {
     "name": "stdout",
     "output_type": "stream",
     "text": [
      "48213.20809107396\n"
     ]
    }
   ],
   "source": [
    "portfolio_returns = simulated_returns @ weights\n",
    "percentile = np.percentile(portfolio_returns, 1)\n",
    "VaR_99 = portfolio_value * -percentile\n",
    "print(VaR_99)"
   ]
  },
  {
   "cell_type": "markdown",
   "id": "2a756b59-f52e-414b-a32a-17b3664b68db",
   "metadata": {},
   "source": [
    "Plot the distribution of Porfolio returns along with the VaR "
   ]
  },
  {
   "cell_type": "code",
   "execution_count": 39,
   "id": "4ee809c3-d62b-4f4a-8792-c0fa90aaf686",
   "metadata": {},
   "outputs": [
    {
     "name": "stderr",
     "output_type": "stream",
     "text": [
      "C:\\Users\\dande\\anaconda3\\Lib\\site-packages\\seaborn\\_oldcore.py:1119: FutureWarning: use_inf_as_na option is deprecated and will be removed in a future version. Convert inf values to NaN before operating instead.\n",
      "  with pd.option_context('mode.use_inf_as_na', True):\n"
     ]
    },
    {
     "data": {
      "image/png": "[encoded data removed]",
      "text/plain": [
       "<Figure size 640x480 with 1 Axes>"
      ]
     },
     "metadata": {},
     "output_type": "display_data"
    }
   ],
   "source": [
    "sns.histplot(portfolio_returns * portfolio_value, bins=20, kde=True)\n",
    "plt.axvline(x=percentile * portfolio_value, color='red', linestyle='--', label=f'99% VaR = ${VaR_99:,.0f}')\n",
    "plt.xlabel('1-Day Portfolio Return (in USD)')\n",
    "plt.ylabel('Frequency')\n",
    "plt.title('Distribution of 1-Day Portfolio Returns (Monte Carlo Simulation)')\n",
    "plt.legend()\n",
    "plt.show()"
   ]
  },
  {
   "cell_type": "code",
   "execution_count": null,
   "id": "9d45b0f1-c925-425b-8745-db0de1cd92a6",
   "metadata": {},
   "outputs": [],
   "source": []
  }
 ],
 "metadata": {
  "kaggle": {
   "accelerator": "none",
   "dataSources": [],
   "dockerImageVersionId": 30646,
   "isGpuEnabled": false,
   "isInternetEnabled": true,
   "language": "python",
   "sourceType": "notebook"
  },
  "kernelspec": {
   "display_name": "Python [conda env:base] *",
   "language": "python",
   "name": "conda-base-py"
  },
  "language_info": {
   "codemirror_mode": {
    "name": "ipython",
    "version": 3
   },
   "file_extension": ".py",
   "mimetype": "text/x-python",
   "name": "python",
   "nbconvert_exporter": "python",
   "pygments_lexer": "ipython3",
   "version": "3.11.7"
  },
  "papermill": {
   "default_parameters": {},
   "duration": 68.636844,
   "end_time": "2024-02-12T10:05:02.938264",
   "environment_variables": {},
   "exception": null,
   "input_path": "__notebook__.ipynb",
   "output_path": "__notebook__.ipynb",
   "parameters": {},
   "start_time": "2024-02-12T10:03:54.301420",
   "version": "2.5.0"
  }
 },
 "nbformat": 4,
 "nbformat_minor": 5
}
